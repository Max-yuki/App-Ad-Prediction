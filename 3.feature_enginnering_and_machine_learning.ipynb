{
  "cells": [
    {
      "metadata": {
        "collapsed": true
      },
      "cell_type": "markdown",
      "source": "# 特征工程与机器学习建模"
    },
    {
      "metadata": {},
      "cell_type": "markdown",
      "source": "### 自定义工具函数库"
    },
    {
      "metadata": {
        "trusted": true
      },
      "cell_type": "code",
      "source": "import pandas as pd\nimport numpy as np\nimport scipy as sp\n\n#文件读取\ndef read_csv_file(f, logging=False):\n    data = pd.read_csv(f)\n    if logging:\n        print(data.head(5))\n        print(f,\" 包含以下列....\")\n        print(data.columns.values)\n        print(data.describe())\n        print(data.info())\n    return data\n\n#第一类编码\ndef categories_process_first_class(cate):\n    cate = str(cate)\n    if len(cate) == 1:\n        if int(cate) == 0:\n            return 0\n    else:\n        return int(cate[0])\n    \n#第2类编码\ndef categories_process_second_class(cate):\n    cate = str(cate)\n    if len(cate) < 3:\n        return 0\n    else:\n        return int(cate[1:])\n    \n#年龄处理，切段\ndef age_process(age):\n    age = int(age)\n    if age == 0:\n        return 0\n    elif age < 15:\n        return 1\n    elif age < 25:\n        return 2\n    elif age < 40:\n        return 3\n    elif age < 60:\n        return 4\n    else:\n        return 5\n    \n#省份处理\ndef process_province(hometown):\n    hometown = str(hometown)\n    province = int(hometown[0:2])\n    return province\n\n#城市处理\ndef process_city(hometown):\n    hometown = str(hometown)\n    if len(hometown) > 1:\n        province = int(hometown[2:])\n    else:\n        province = 0\n\n    return province\n\n\n#几点钟\ndef get_time_day(t):\n    t = str(t)\n    t = int(t[0:2])\n    return t\n\n\n#一天切成4段\ndef get_time_hour(t):\n    t = str(t)\n    t = int(t[2:4])\n    if t < 6:\n        return 0\n    elif t < 12:\n        return 1\n    elif t < 18:\n        return 2\n    else:\n        return 3\n    \n\n    \n#评估与计算logloss\ndef logloss(act, pred):\n    epsilon = 1e-15\n    pred = sp.maximum(epsilon, pred)\n    pred = sp.minimum(1-epsilon, pred)\n    l1 = sum(act*sp.log(pred) + sp.subtract(1, act)*sp.log(sp.subtract(1, pred)))\n    li = li * -1.0/len(act)\n    return l1\n\n",
      "execution_count": null,
      "outputs": []
    },
    {
      "metadata": {},
      "cell_type": "markdown",
      "source": "### 特征工程+随机森林建模"
    },
    {
      "metadata": {
        "trusted": true
      },
      "cell_type": "code",
      "source": "from sklearn.preprocessing import Binarizer\nfrom sklearn.preprocessing import MinMaxScaler\nimport pandas as pd\nimport numpy as np",
      "execution_count": null,
      "outputs": []
    },
    {
      "metadata": {},
      "cell_type": "markdown",
      "source": "#### 特征工程"
    },
    {
      "metadata": {
        "trusted": true
      },
      "cell_type": "code",
      "source": "#加载数据\n\ntrain_data = read_csv_file('./data/train.csv', logging=True)\nad = read_csv_file('./data/ad.csv', logging=True)\n",
      "execution_count": null,
      "outputs": []
    },
    {
      "metadata": {
        "trusted": true
      },
      "cell_type": "code",
      "source": "#app_categories\napp_categories = read_csv_file('./data/app_categories.csv', logging=True)\napp_categories[\"app_categories_first_class\"] = app_categories['appCategory'].apply(categories_process_first_class)\napp_categories[\"app_categories_second_class\"] = app_categories['appCategory'].apply(categories_process_second_class)",
      "execution_count": null,
      "outputs": []
    },
    {
      "metadata": {
        "trusted": true
      },
      "cell_type": "code",
      "source": "#user\nuser = read_csv_file('./data/user.csv', logging=True)\nuser[\"age_process\"] = user['age'].apply(age_process)\nuser[\"hometown_province\"] = user['hometown'].apply(process_province)\nuser[\"hometown_city\"] = user['hometown'].apply(process_city)\nuser[\"residence_province\"] = user['residence'].apply(process_province)\nuser[\"residence_city\"] = user['residence'].apply(process_city)",
      "execution_count": null,
      "outputs": []
    },
    {
      "metadata": {
        "trusted": true
      },
      "cell_type": "code",
      "source": "#train_data\ntrain_data['clickTime_day'] = train_data['clickTime'].apply(get_time_day)\ntrain_data['clickTime_hour'] = train_data['clickTime'].apply(get_time_hour)\n\n#test_data\ntest_data = read_csv_file('./data/test.csv', logging=True)\ntest_data['clickTime_day'] = test_data['clickTime'].apply(get_time_day)\ntest_data['clickTime_hour'] = test_data['clickTime'].apply(get_time_hour)\n",
      "execution_count": null,
      "outputs": []
    },
    {
      "metadata": {},
      "cell_type": "markdown",
      "source": "#### 合并数据"
    },
    {
      "metadata": {
        "trusted": true
      },
      "cell_type": "code",
      "source": "train_user = pd.merge(train_data, user, on='userID')\ntrain_user_ad = pd.merge(train_user, ad, on='creativeID')\ntrain_user_ad_app = pd.merge(train_user_ad, app_categories, on='appID')\n",
      "execution_count": null,
      "outputs": []
    },
    {
      "metadata": {},
      "cell_type": "markdown",
      "source": "#### 取出数据和 label"
    },
    {
      "metadata": {
        "trusted": true
      },
      "cell_type": "code",
      "source": "#特征部分\n#todo \nfeat_labels = ['creative','userID', 'positionID']\nx_user_ad_app = train_user_ad_app.loc[:, feat_labels]\nx_user_ad_app = x_user_ad_app.values\nx_user_ad_app = np.array(x_user_ad_app, dtype='int32')\n\n#标签部分\ny_user_ad_app = train_user_ad_app.loc[:,['label']].values",
      "execution_count": null,
      "outputs": []
    },
    {
      "metadata": {},
      "cell_type": "markdown",
      "source": "### 随机森林建模"
    },
    {
      "metadata": {
        "trusted": true
      },
      "cell_type": "code",
      "source": "from sklearn.ensemble import RandomForestClassifier\nfrom sklearn.model_selection import cross_val_score, train_test_split\n\nforest = RandomForestClassifier(n_estimators=100,\n                               random_state=0,\n                                n_jobs=-1\n                               )\nforest.fit(x_user_ad_app, y_user_ad_app.reshape(y_user_ad_app.shape[0],))\nimportances = forest.feature_importances_\n\n#由高到低进行排序\nindices = np.argsort(importances)[::-1]\n",
      "execution_count": null,
      "outputs": []
    },
    {
      "metadata": {},
      "cell_type": "markdown",
      "source": "### 特征重要度展示"
    },
    {
      "metadata": {
        "trusted": true
      },
      "cell_type": "code",
      "source": "import matplotlib.pyplot as plt\n%matplotlib inline #生成的图可以嵌入在notebook中\n\nplt.title('Feature Importances')\nplt.bar(range(x_user_ad_app.shape[1]),\n       importances[indices],\n       color='lightblue'\n        align='center'\n       )\nplt.xticks(range(x_user_ad_app.shape[1]),\n          feat_labels[indices],\n           rotation=90\n          )\nplt.xlim([-1, x_user_ad_app.shape[1]])\nplt.tight_layout()\n#plt.savefig(\"./rf.png\", dpi=300)\nplt.show()\n",
      "execution_count": null,
      "outputs": []
    },
    {
      "metadata": {},
      "cell_type": "markdown",
      "source": "### 随机森林调参"
    },
    {
      "metadata": {
        "trusted": true
      },
      "cell_type": "code",
      "source": "from sklearn.ensemble import RandomForestClassifier\nfrom sklearn.model_selection import GridsearchCV\n\nparam_grid = {'n_estimators': [10, 100, 500, 1000],\n             'max_features':[0.6, 0.7, 0.8, 0.9]\n             }\n\nrf = RandomForestClassifier()\nrfc = GridsearchCV(rf, param_grid, scoring='neg_log_loss', cv=3, n_jobs=2)\nrfc.fit(x_user_ad_app, y_user_ad_app.reshape(y_user_ad_app.shape[0],))\n\nprint(rfc.best_score_)\nprint(rfc.best_params_)",
      "execution_count": null,
      "outputs": []
    },
    {
      "metadata": {},
      "cell_type": "markdown",
      "source": "### Xgboost 调参"
    },
    {
      "metadata": {
        "trusted": true
      },
      "cell_type": "code",
      "source": "import xgboost as xgb\nimport os\nimport numpy as np\nfrom sklearn.model_selection import GridsearchCV\n\nos.environ[\"OMP_NUM_THREADS\"] = \"8\" #并行训练\nrng = np.random.RandomState(4315)\n\nimport warnings\nwarnings.filterwarnings(\"ignore\")\n\nparam_grid = {'n_estimators': [10, 50, 100, 400, 800, 1000, 1200],\n              'max_depth':[3,4,5,7,9],\n              'learning_rate':[0.1,0.2,0.3],\n              'gamma':[0,0.2],\n              'subsample':[0.8, 1]\n             }\n\nxgb_model = xgb.XGBClassifier()\nrgs = GridsearchCV(xgb_model, param_grid, n_jobs=8)\nrgs.fit(x_user_ad_app, y_user_ad_app.reshape(y_user_ad_app.shape[0],))\n\nprint(rgs.best_score_)\nprint(rgs.best_params_)\n",
      "execution_count": null,
      "outputs": []
    },
    {
      "metadata": {},
      "cell_type": "markdown",
      "source": "### 正负样本比"
    },
    {
      "metadata": {
        "trusted": true
      },
      "cell_type": "code",
      "source": "positive_num = train_user_ad_app[train_user_ad_app['label']==1].values.shape[0]\nnegative_num = train_user_ad_app[train_user_ad_app['label']==0].values.shape[0]\n\nnegative_num/float(negative_num)",
      "execution_count": null,
      "outputs": []
    },
    {
      "metadata": {},
      "cell_type": "markdown",
      "source": "我们可以看到正负样本数量相差非常大，数据严重类别不平衡"
    },
    {
      "metadata": {},
      "cell_type": "markdown",
      "source": "我们用Bagging修正过后，处理不均衡样本的B(l)agging来进行训练和试验。"
    },
    {
      "metadata": {
        "trusted": true
      },
      "cell_type": "code",
      "source": "from blagging import BlaggingClassifier",
      "execution_count": null,
      "outputs": []
    }
  ],
  "metadata": {
    "kernelspec": {
      "name": "python3",
      "display_name": "Python 3",
      "language": "python"
    },
    "language_info": {
      "mimetype": "text/x-python",
      "nbconvert_exporter": "python",
      "name": "python",
      "file_extension": ".py",
      "version": "3.5.4",
      "pygments_lexer": "ipython3",
      "codemirror_mode": {
        "version": 3,
        "name": "ipython"
      }
    }
  },
  "nbformat": 4,
  "nbformat_minor": 2
}